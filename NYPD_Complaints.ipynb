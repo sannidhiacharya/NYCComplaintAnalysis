{
 "cells": [
  {
   "cell_type": "code",
   "execution_count": 1,
   "metadata": {
    "collapsed": true
   },
   "outputs": [],
   "source": [
    "# Importing required libraries\n",
    "import pandas as pd\n",
    "from sodapy import Socrata\n",
    "import numpy as np\n",
    "import folium\n",
    "import plotly\n",
    "import plotly.figure_factory as ff\n",
    "from folium.plugins import HeatMap\n",
    "import requests\n",
    "from collections import Counter"
   ]
  },
  {
   "cell_type": "code",
   "execution_count": 2,
   "metadata": {
    "collapsed": true
   },
   "outputs": [],
   "source": [
    "# Importing required API\n",
    "client = Socrata(\"data.cityofnewyork.us\",\n",
    "                  \"woqOj0yWsQzkpr7i6BVEGMKqV\",    # Using my account credentials to get access to API\n",
    "                  \"puneetag@buffalo.edu\",         # NOTE: Use your own account credentials.\n",
    "                  \"Cobrasss02$\")\n",
    "results = client.get(\"9s4h-37hy\",limit=1000000)   # Importing first 1000000 rows of data"
   ]
  },
  {
   "cell_type": "code",
   "execution_count": 3,
   "metadata": {
    "collapsed": true
   },
   "outputs": [],
   "source": [
    "# Creating a list consisting of last 10000 rows of API data\n",
    "myList=results[-10000:]"
   ]
  },
  {
   "cell_type": "code",
   "execution_count": 4,
   "metadata": {},
   "outputs": [
    {
     "data": {
      "text/html": [
       "<div>\n",
       "<style>\n",
       "    .dataframe thead tr:only-child th {\n",
       "        text-align: right;\n",
       "    }\n",
       "\n",
       "    .dataframe thead th {\n",
       "        text-align: left;\n",
       "    }\n",
       "\n",
       "    .dataframe tbody tr th {\n",
       "        vertical-align: top;\n",
       "    }\n",
       "</style>\n",
       "<table border=\"1\" class=\"dataframe\">\n",
       "  <thead>\n",
       "    <tr style=\"text-align: right;\">\n",
       "      <th></th>\n",
       "      <th>addr_pct_cd</th>\n",
       "      <th>boro_nm</th>\n",
       "      <th>cmplnt_fr_dt</th>\n",
       "      <th>cmplnt_fr_tm</th>\n",
       "      <th>cmplnt_num</th>\n",
       "      <th>cmplnt_to_dt</th>\n",
       "      <th>cmplnt_to_tm</th>\n",
       "      <th>crm_atpt_cptd_cd</th>\n",
       "      <th>hadevelopt</th>\n",
       "      <th>juris_desc</th>\n",
       "      <th>...</th>\n",
       "      <th>loc_of_occur_desc</th>\n",
       "      <th>longitude</th>\n",
       "      <th>ofns_desc</th>\n",
       "      <th>parks_nm</th>\n",
       "      <th>pd_cd</th>\n",
       "      <th>pd_desc</th>\n",
       "      <th>prem_typ_desc</th>\n",
       "      <th>rpt_dt</th>\n",
       "      <th>x_coord_cd</th>\n",
       "      <th>y_coord_cd</th>\n",
       "    </tr>\n",
       "  </thead>\n",
       "  <tbody>\n",
       "    <tr>\n",
       "      <th>0</th>\n",
       "      <td>88</td>\n",
       "      <td>BROOKLYN</td>\n",
       "      <td>2014-07-07T00:00:00.000</td>\n",
       "      <td>20:30:00</td>\n",
       "      <td>445097596</td>\n",
       "      <td>2014-07-07T00:00:00.000</td>\n",
       "      <td>20:40:00</td>\n",
       "      <td>COMPLETED</td>\n",
       "      <td>WHITMAN</td>\n",
       "      <td>N.Y. HOUSING POLICE</td>\n",
       "      <td>...</td>\n",
       "      <td>INSIDE</td>\n",
       "      <td>-73.975125947</td>\n",
       "      <td>ASSAULT 3 &amp; RELATED OFFENSES</td>\n",
       "      <td>NaN</td>\n",
       "      <td>101</td>\n",
       "      <td>ASSAULT 3</td>\n",
       "      <td>RESIDENCE - PUBLIC HOUSING</td>\n",
       "      <td>2014-07-07T00:00:00.000</td>\n",
       "      <td>991148</td>\n",
       "      <td>192533</td>\n",
       "    </tr>\n",
       "    <tr>\n",
       "      <th>1</th>\n",
       "      <td>42</td>\n",
       "      <td>BRONX</td>\n",
       "      <td>2016-05-23T00:00:00.000</td>\n",
       "      <td>11:53:00</td>\n",
       "      <td>924476946</td>\n",
       "      <td>2016-05-23T00:00:00.000</td>\n",
       "      <td>12:00:00</td>\n",
       "      <td>COMPLETED</td>\n",
       "      <td>NaN</td>\n",
       "      <td>N.Y. HOUSING POLICE</td>\n",
       "      <td>...</td>\n",
       "      <td>INSIDE</td>\n",
       "      <td>-73.903643392</td>\n",
       "      <td>ASSAULT 3 &amp; RELATED OFFENSES</td>\n",
       "      <td>NaN</td>\n",
       "      <td>101</td>\n",
       "      <td>ASSAULT 3</td>\n",
       "      <td>RESIDENCE - PUBLIC HOUSING</td>\n",
       "      <td>2016-05-23T00:00:00.000</td>\n",
       "      <td>1010919</td>\n",
       "      <td>239073</td>\n",
       "    </tr>\n",
       "    <tr>\n",
       "      <th>2</th>\n",
       "      <td>103</td>\n",
       "      <td>QUEENS</td>\n",
       "      <td>2012-05-21T00:00:00.000</td>\n",
       "      <td>12:10:00</td>\n",
       "      <td>437698810</td>\n",
       "      <td>2012-05-21T00:00:00.000</td>\n",
       "      <td>12:15:00</td>\n",
       "      <td>COMPLETED</td>\n",
       "      <td>NaN</td>\n",
       "      <td>N.Y. POLICE DEPT</td>\n",
       "      <td>...</td>\n",
       "      <td>INSIDE</td>\n",
       "      <td>-73.798850489</td>\n",
       "      <td>CRIMINAL MISCHIEF &amp; RELATED OF</td>\n",
       "      <td>NaN</td>\n",
       "      <td>269</td>\n",
       "      <td>MISCHIEF,CRIMINAL,    UNCL 2ND</td>\n",
       "      <td>DRUG STORE</td>\n",
       "      <td>2012-05-21T00:00:00.000</td>\n",
       "      <td>1040022</td>\n",
       "      <td>195779</td>\n",
       "    </tr>\n",
       "    <tr>\n",
       "      <th>3</th>\n",
       "      <td>84</td>\n",
       "      <td>BROOKLYN</td>\n",
       "      <td>2009-08-01T00:00:00.000</td>\n",
       "      <td>08:00:00</td>\n",
       "      <td>219364629</td>\n",
       "      <td>2009-09-15T00:00:00.000</td>\n",
       "      <td>00:01:00</td>\n",
       "      <td>COMPLETED</td>\n",
       "      <td>NaN</td>\n",
       "      <td>N.Y. POLICE DEPT</td>\n",
       "      <td>...</td>\n",
       "      <td>REAR OF</td>\n",
       "      <td>-73.991120647</td>\n",
       "      <td>CRIMINAL MISCHIEF &amp; RELATED OF</td>\n",
       "      <td>NaN</td>\n",
       "      <td>258</td>\n",
       "      <td>CRIMINAL MISCHIEF 4TH, GRAFFIT</td>\n",
       "      <td>COMMERCIAL BUILDING</td>\n",
       "      <td>2009-09-22T00:00:00.000</td>\n",
       "      <td>986713</td>\n",
       "      <td>189119</td>\n",
       "    </tr>\n",
       "    <tr>\n",
       "      <th>4</th>\n",
       "      <td>120</td>\n",
       "      <td>STATEN ISLAND</td>\n",
       "      <td>2007-03-24T00:00:00.000</td>\n",
       "      <td>18:45:00</td>\n",
       "      <td>883722190</td>\n",
       "      <td>2007-03-24T00:00:00.000</td>\n",
       "      <td>18:50:00</td>\n",
       "      <td>COMPLETED</td>\n",
       "      <td>NaN</td>\n",
       "      <td>N.Y. POLICE DEPT</td>\n",
       "      <td>...</td>\n",
       "      <td>INSIDE</td>\n",
       "      <td>-74.135615573</td>\n",
       "      <td>CRIMINAL MISCHIEF &amp; RELATED OF</td>\n",
       "      <td>NaN</td>\n",
       "      <td>259</td>\n",
       "      <td>CRIMINAL MISCHIEF,UNCLASSIFIED 4</td>\n",
       "      <td>COMMERCIAL BUILDING</td>\n",
       "      <td>2007-03-24T00:00:00.000</td>\n",
       "      <td>946610</td>\n",
       "      <td>170546</td>\n",
       "    </tr>\n",
       "  </tbody>\n",
       "</table>\n",
       "<p>5 rows × 24 columns</p>\n",
       "</div>"
      ],
      "text/plain": [
       "  addr_pct_cd        boro_nm             cmplnt_fr_dt cmplnt_fr_tm cmplnt_num  \\\n",
       "0          88       BROOKLYN  2014-07-07T00:00:00.000     20:30:00  445097596   \n",
       "1          42          BRONX  2016-05-23T00:00:00.000     11:53:00  924476946   \n",
       "2         103         QUEENS  2012-05-21T00:00:00.000     12:10:00  437698810   \n",
       "3          84       BROOKLYN  2009-08-01T00:00:00.000     08:00:00  219364629   \n",
       "4         120  STATEN ISLAND  2007-03-24T00:00:00.000     18:45:00  883722190   \n",
       "\n",
       "              cmplnt_to_dt cmplnt_to_tm crm_atpt_cptd_cd hadevelopt  \\\n",
       "0  2014-07-07T00:00:00.000     20:40:00        COMPLETED    WHITMAN   \n",
       "1  2016-05-23T00:00:00.000     12:00:00        COMPLETED        NaN   \n",
       "2  2012-05-21T00:00:00.000     12:15:00        COMPLETED        NaN   \n",
       "3  2009-09-15T00:00:00.000     00:01:00        COMPLETED        NaN   \n",
       "4  2007-03-24T00:00:00.000     18:50:00        COMPLETED        NaN   \n",
       "\n",
       "            juris_desc    ...     loc_of_occur_desc      longitude  \\\n",
       "0  N.Y. HOUSING POLICE    ...                INSIDE  -73.975125947   \n",
       "1  N.Y. HOUSING POLICE    ...                INSIDE  -73.903643392   \n",
       "2     N.Y. POLICE DEPT    ...                INSIDE  -73.798850489   \n",
       "3     N.Y. POLICE DEPT    ...               REAR OF  -73.991120647   \n",
       "4     N.Y. POLICE DEPT    ...                INSIDE  -74.135615573   \n",
       "\n",
       "                        ofns_desc parks_nm pd_cd  \\\n",
       "0    ASSAULT 3 & RELATED OFFENSES      NaN   101   \n",
       "1    ASSAULT 3 & RELATED OFFENSES      NaN   101   \n",
       "2  CRIMINAL MISCHIEF & RELATED OF      NaN   269   \n",
       "3  CRIMINAL MISCHIEF & RELATED OF      NaN   258   \n",
       "4  CRIMINAL MISCHIEF & RELATED OF      NaN   259   \n",
       "\n",
       "                            pd_desc               prem_typ_desc  \\\n",
       "0                         ASSAULT 3  RESIDENCE - PUBLIC HOUSING   \n",
       "1                         ASSAULT 3  RESIDENCE - PUBLIC HOUSING   \n",
       "2    MISCHIEF,CRIMINAL,    UNCL 2ND                  DRUG STORE   \n",
       "3    CRIMINAL MISCHIEF 4TH, GRAFFIT         COMMERCIAL BUILDING   \n",
       "4  CRIMINAL MISCHIEF,UNCLASSIFIED 4         COMMERCIAL BUILDING   \n",
       "\n",
       "                    rpt_dt x_coord_cd y_coord_cd  \n",
       "0  2014-07-07T00:00:00.000     991148     192533  \n",
       "1  2016-05-23T00:00:00.000    1010919     239073  \n",
       "2  2012-05-21T00:00:00.000    1040022     195779  \n",
       "3  2009-09-22T00:00:00.000     986713     189119  \n",
       "4  2007-03-24T00:00:00.000     946610     170546  \n",
       "\n",
       "[5 rows x 24 columns]"
      ]
     },
     "execution_count": 4,
     "metadata": {},
     "output_type": "execute_result"
    }
   ],
   "source": [
    "# Creating my base dataframe using data stored in myList\n",
    "results_df = pd.DataFrame.from_records(myList)\n",
    "results_df.head()"
   ]
  },
  {
   "cell_type": "code",
   "execution_count": 7,
   "metadata": {
    "collapsed": true
   },
   "outputs": [],
   "source": [
    "# Here we use three steps of code for each borough in NYC\n",
    "# 1) First we create a new dataframe for each borough that contains its respective information\n",
    "# 2) Secondly we create a list that tells us about the complaints received in a particular borough\n",
    "# 3) Finally we count the number of complaints by each offence type in that particular borough\n",
    "\n",
    "# For Brooklyn\n",
    "dist1_df=results_df[results_df.boro_nm == 'BROOKLYN']\n",
    "ofns=list(dist1_df.law_cat_cd)\n",
    "alpha1=Counter(ofns)\n",
    "\n",
    "# For Bronx\n",
    "dist2_df=results_df[results_df.boro_nm == 'BRONX']\n",
    "ofns=list(dist2_df.law_cat_cd)\n",
    "alpha2=Counter(ofns)\n",
    "\n",
    "# For Queens\n",
    "dist3_df=results_df[results_df.boro_nm == 'QUEENS']\n",
    "ofns=list(dist3_df.law_cat_cd)\n",
    "alpha3=Counter(ofns)\n",
    "\n",
    "# For Manhattan\n",
    "dist4_df=results_df[results_df.boro_nm == 'MANHATTAN']\n",
    "ofns=list(dist4_df.law_cat_cd)\n",
    "alpha4=Counter(ofns)\n",
    "\n",
    "# For Staten Island\n",
    "dist5_df=results_df[results_df.boro_nm == 'STATEN ISLAND']\n",
    "ofns=list(dist5_df.law_cat_cd)\n",
    "alpha5=Counter(ofns)\n",
    "\n",
    "x1 = list(alpha1.values())\n",
    "x2 = list(alpha2.values())\n",
    "x3 = list(alpha3.values()) \n",
    "x4 = list(alpha4.values())\n",
    "x5 = list(alpha5.values())"
   ]
  },
  {
   "cell_type": "code",
   "execution_count": 8,
   "metadata": {},
   "outputs": [
    {
     "data": {
      "text/html": [
       "<script>requirejs.config({paths: { 'plotly': ['https://cdn.plot.ly/plotly-latest.min']},});if(!window.Plotly) {{require(['plotly'],function(plotly) {window.Plotly=plotly;});}}</script>"
      ],
      "text/vnd.plotly.v1+html": [
       "<script>requirejs.config({paths: { 'plotly': ['https://cdn.plot.ly/plotly-latest.min']},});if(!window.Plotly) {{require(['plotly'],function(plotly) {window.Plotly=plotly;});}}</script>"
      ]
     },
     "metadata": {},
     "output_type": "display_data"
    },
    {
     "data": {
      "application/vnd.plotly.v1+json": {
       "data": [
        {
         "fill": "toself",
         "name": "BROOKLYN",
         "r": [
          386,
          1000,
          1637
         ],
         "theta": [
          "FELONY",
          "MISDEMEANOR",
          "VIOLATION"
         ],
         "type": "scatterpolar"
        },
        {
         "fill": "toself",
         "name": "BRONX",
         "r": [
          296,
          591,
          1385
         ],
         "theta": [
          "FELONY",
          "MISDEMEANOR",
          "VIOLATION"
         ],
         "type": "scatterpolar"
        },
        {
         "fill": "toself",
         "name": "STATEN ISLAND",
         "r": [
          76,
          100,
          268
         ],
         "theta": [
          "FELONY",
          "MISDEMEANOR",
          "VIOLATION"
         ],
         "type": "scatterpolar"
        }
       ],
       "layout": {
        "polar": {
         "radialaxis": {
          "range": [
           0,
           1700
          ],
          "visible": true
         }
        },
        "showlegend": true
       }
      },
      "text/html": [
       "<div id=\"7a8820bc-0686-42b6-8329-89e0d9a9090d\" style=\"height: 525px; width: 100%;\" class=\"plotly-graph-div\"></div><script type=\"text/javascript\">require([\"plotly\"], function(Plotly) { window.PLOTLYENV=window.PLOTLYENV || {};window.PLOTLYENV.BASE_URL=\"https://plot.ly\";Plotly.newPlot(\"7a8820bc-0686-42b6-8329-89e0d9a9090d\", [{\"theta\": [\"FELONY\", \"MISDEMEANOR\", \"VIOLATION\"], \"r\": [386, 1000, 1637], \"type\": \"scatterpolar\", \"name\": \"BROOKLYN\", \"fill\": \"toself\"}, {\"theta\": [\"FELONY\", \"MISDEMEANOR\", \"VIOLATION\"], \"r\": [296, 591, 1385], \"type\": \"scatterpolar\", \"name\": \"BRONX\", \"fill\": \"toself\"}, {\"theta\": [\"FELONY\", \"MISDEMEANOR\", \"VIOLATION\"], \"r\": [76, 100, 268], \"type\": \"scatterpolar\", \"name\": \"STATEN ISLAND\", \"fill\": \"toself\"}], {\"polar\": {\"radialaxis\": {\"visible\": true, \"range\": [0, 1700]}}, \"showlegend\": true}, {\"linkText\": \"Export to plot.ly\", \"showLink\": true})});</script>"
      ],
      "text/vnd.plotly.v1+html": [
       "<div id=\"7a8820bc-0686-42b6-8329-89e0d9a9090d\" style=\"height: 525px; width: 100%;\" class=\"plotly-graph-div\"></div><script type=\"text/javascript\">require([\"plotly\"], function(Plotly) { window.PLOTLYENV=window.PLOTLYENV || {};window.PLOTLYENV.BASE_URL=\"https://plot.ly\";Plotly.newPlot(\"7a8820bc-0686-42b6-8329-89e0d9a9090d\", [{\"theta\": [\"FELONY\", \"MISDEMEANOR\", \"VIOLATION\"], \"r\": [386, 1000, 1637], \"type\": \"scatterpolar\", \"name\": \"BROOKLYN\", \"fill\": \"toself\"}, {\"theta\": [\"FELONY\", \"MISDEMEANOR\", \"VIOLATION\"], \"r\": [296, 591, 1385], \"type\": \"scatterpolar\", \"name\": \"BRONX\", \"fill\": \"toself\"}, {\"theta\": [\"FELONY\", \"MISDEMEANOR\", \"VIOLATION\"], \"r\": [76, 100, 268], \"type\": \"scatterpolar\", \"name\": \"STATEN ISLAND\", \"fill\": \"toself\"}], {\"polar\": {\"radialaxis\": {\"visible\": true, \"range\": [0, 1700]}}, \"showlegend\": true}, {\"linkText\": \"Export to plot.ly\", \"showLink\": true})});</script>"
      ]
     },
     "metadata": {},
     "output_type": "display_data"
    }
   ],
   "source": [
    "# Plot 1 : Creating radar plot that show the number of complaints by each offense type received in each borough of NYC\n",
    "import plotly as py\n",
    "import plotly.graph_objs as go\n",
    "plotly.offline.init_notebook_mode(connected=True)\n",
    "\n",
    "data = [\n",
    "    go.Scatterpolar(\n",
    "      r = x1,\n",
    "      theta = ['FELONY','MISDEMEANOR','VIOLATION'],\n",
    "      fill = 'toself',\n",
    "      name = 'BROOKLYN'\n",
    "    ),\n",
    "    go.Scatterpolar(\n",
    "      r = x2,\n",
    "      theta = ['FELONY','MISDEMEANOR','VIOLATION'],\n",
    "      fill = 'toself',\n",
    "      name = 'BRONX'\n",
    "    ),\n",
    "     go.Scatterpolar(\n",
    "      r = x5,\n",
    "      theta = ['FELONY','MISDEMEANOR','VIOLATION'],\n",
    "      fill = 'toself',\n",
    "      name = 'STATEN ISLAND'\n",
    "    )\n",
    "]\n",
    "\n",
    "layout = go.Layout(\n",
    "  polar = dict(\n",
    "    radialaxis = dict(\n",
    "      visible = True,\n",
    "      range = [0, 1700]\n",
    "    )\n",
    "  ),\n",
    "  showlegend = True\n",
    ")\n",
    "\n",
    "fig = go.Figure(data=data, layout=layout)\n",
    "py.offline.iplot(fig)"
   ]
  },
  {
   "cell_type": "code",
   "execution_count": 9,
   "metadata": {},
   "outputs": [
    {
     "data": {
      "text/plain": [
       "Counter({nan: 9,\n",
       "         u'ADMINISTRATIVE CODE': 12,\n",
       "         u'ALCOHOLIC BEVERAGE CONTROL LAW': 1,\n",
       "         u'ARSON': 16,\n",
       "         u'ASSAULT 3 & RELATED OFFENSES': 335,\n",
       "         u\"BURGLAR'S TOOLS\": 1,\n",
       "         u'BURGLARY': 120,\n",
       "         u'CRIMINAL MISCHIEF & RELATED OF': 304,\n",
       "         u'CRIMINAL TRESPASS': 19,\n",
       "         u'DANGEROUS DRUGS': 204,\n",
       "         u'DANGEROUS WEAPONS': 83,\n",
       "         u'DISORDERLY CONDUCT': 1,\n",
       "         u'FELONY ASSAULT': 129,\n",
       "         u'FORGERY': 35,\n",
       "         u'FRAUDS': 19,\n",
       "         u'GRAND LARCENY': 257,\n",
       "         u'GRAND LARCENY OF MOTOR VEHICLE': 58,\n",
       "         u'HARRASSMENT 2': 380,\n",
       "         u'INTOXICATED & IMPAIRED DRIVING': 50,\n",
       "         u'MISCELLANEOUS PENAL LAW': 89,\n",
       "         u'MURDER & NON-NEGL. MANSLAUGHTER': 7,\n",
       "         u'NYS LAWS-UNCLASSIFIED FELONY': 3,\n",
       "         u'OFF. AGNST PUB ORD SENSBLTY &': 176,\n",
       "         u'OFFENSES AGAINST PUBLIC ADMINI': 43,\n",
       "         u'OFFENSES AGAINST THE PERSON': 10,\n",
       "         u'OFFENSES INVOLVING FRAUD': 4,\n",
       "         u'OTHER OFFENSES RELATED TO THEF': 3,\n",
       "         u'PETIT LARCENY': 453,\n",
       "         u'POSSESSION OF STOLEN PROPERTY': 6,\n",
       "         u'ROBBERY': 129,\n",
       "         u'THEFT OF SERVICES': 1,\n",
       "         u'THEFT-FRAUD': 30,\n",
       "         u'UNAUTHORIZED USE OF A VEHICLE': 9,\n",
       "         u'VEHICLE AND TRAFFIC LAWS': 27})"
      ]
     },
     "execution_count": 9,
     "metadata": {},
     "output_type": "execute_result"
    }
   ],
   "source": [
    "# Brooklyn has been identified as the borough of NYC with maximum number of complaints in the given timeline\n",
    "# Hence in the next plot our motive is to show statistical distribution of complaints by each offence type\n",
    "\n",
    "vio_df=results_df[results_df.boro_nm == 'BROOKLYN'] # Creating a new dataframe that contains data for borough-'BROOKLYN'\n",
    "ofns=list(vio_df.ofns_desc)                         # Creating a list that contains the information for offences in Brooklyn\n",
    "alpha=Counter(ofns)                                 # Counting the number of complaints by each offence type in Brooklyn\n",
    "alpha"
   ]
  },
  {
   "cell_type": "code",
   "execution_count": 10,
   "metadata": {},
   "outputs": [
    {
     "data": {
      "text/html": [
       "<script>requirejs.config({paths: { 'plotly': ['https://cdn.plot.ly/plotly-latest.min']},});if(!window.Plotly) {{require(['plotly'],function(plotly) {window.Plotly=plotly;});}}</script>"
      ],
      "text/vnd.plotly.v1+html": [
       "<script>requirejs.config({paths: { 'plotly': ['https://cdn.plot.ly/plotly-latest.min']},});if(!window.Plotly) {{require(['plotly'],function(plotly) {window.Plotly=plotly;});}}</script>"
      ]
     },
     "metadata": {},
     "output_type": "display_data"
    },
    {
     "data": {
      "application/vnd.plotly.v1+json": {
       "data": [
        {
         "box": {
          "visible": true
         },
         "fillcolor": "#8dd3c7",
         "line": {
          "color": "black"
         },
         "meanline": {
          "visible": true
         },
         "opacity": 0.6,
         "type": "violin",
         "x0": "Occurrence of offenses in a particular precinct of Brooklyn",
         "y": [
          1,
          9,
          12,
          19,
          9,
          129,
          120,
          43,
          50,
          335,
          4,
          453,
          1,
          30,
          304,
          204,
          10,
          3,
          16,
          27,
          380,
          35,
          6,
          89,
          3,
          129,
          7,
          83,
          58,
          19,
          1,
          257,
          1,
          176
         ]
        }
       ],
       "layout": {
        "title": "STATISTICAL ANALYSIS OF OFFENCES IN BROOKLYN",
        "yaxis": {
         "label": "dd",
         "zeroline": false
        }
       }
      },
      "text/html": [
       "<div id=\"b67d4666-fbaa-4e09-9c7e-ded188a88c78\" style=\"height: 525px; width: 100%;\" class=\"plotly-graph-div\"></div><script type=\"text/javascript\">require([\"plotly\"], function(Plotly) { window.PLOTLYENV=window.PLOTLYENV || {};window.PLOTLYENV.BASE_URL=\"https://plot.ly\";Plotly.newPlot(\"b67d4666-fbaa-4e09-9c7e-ded188a88c78\", [{\"box\": {\"visible\": true}, \"opacity\": 0.6, \"meanline\": {\"visible\": true}, \"fillcolor\": \"#8dd3c7\", \"y\": [1, 9, 12, 19, 9, 129, 120, 43, 50, 335, 4, 453, 1, 30, 304, 204, 10, 3, 16, 27, 380, 35, 6, 89, 3, 129, 7, 83, 58, 19, 1, 257, 1, 176], \"line\": {\"color\": \"black\"}, \"type\": \"violin\", \"x0\": \"Occurrence of offenses in a particular precinct of Brooklyn\"}], {\"title\": \"STATISTICAL ANALYSIS OF OFFENCES IN BROOKLYN\", \"yaxis\": {\"zeroline\": false, \"label\": \"dd\"}}, {\"linkText\": \"Export to plot.ly\", \"showLink\": true})});</script>"
      ],
      "text/vnd.plotly.v1+html": [
       "<div id=\"b67d4666-fbaa-4e09-9c7e-ded188a88c78\" style=\"height: 525px; width: 100%;\" class=\"plotly-graph-div\"></div><script type=\"text/javascript\">require([\"plotly\"], function(Plotly) { window.PLOTLYENV=window.PLOTLYENV || {};window.PLOTLYENV.BASE_URL=\"https://plot.ly\";Plotly.newPlot(\"b67d4666-fbaa-4e09-9c7e-ded188a88c78\", [{\"box\": {\"visible\": true}, \"opacity\": 0.6, \"meanline\": {\"visible\": true}, \"fillcolor\": \"#8dd3c7\", \"y\": [1, 9, 12, 19, 9, 129, 120, 43, 50, 335, 4, 453, 1, 30, 304, 204, 10, 3, 16, 27, 380, 35, 6, 89, 3, 129, 7, 83, 58, 19, 1, 257, 1, 176], \"line\": {\"color\": \"black\"}, \"type\": \"violin\", \"x0\": \"Occurrence of offenses in a particular precinct of Brooklyn\"}], {\"title\": \"STATISTICAL ANALYSIS OF OFFENCES IN BROOKLYN\", \"yaxis\": {\"zeroline\": false, \"label\": \"dd\"}}, {\"linkText\": \"Export to plot.ly\", \"showLink\": true})});</script>"
      ]
     },
     "metadata": {},
     "output_type": "display_data"
    }
   ],
   "source": [
    "# Plot 2: Creating a violin plot for statistical analysis of offences in Brooklyn\n",
    "import plotly as py\n",
    "import plotly.graph_objs as go\n",
    "plotly.offline.init_notebook_mode(connected=True)\n",
    "\n",
    "fig = {\n",
    "    \"data\": [{\n",
    "        \"type\": 'violin',\n",
    "        \"y\": list(alpha.values()),\n",
    "        \"box\": {\n",
    "            \"visible\": True\n",
    "        },\n",
    "        \"line\": {\n",
    "            \"color\": 'black'\n",
    "        },\n",
    "        \"meanline\": {\n",
    "            \"visible\": True\n",
    "        },\n",
    "        \"fillcolor\": '#8dd3c7',\n",
    "        \"opacity\": 0.6,\n",
    "        \"x0\": 'Occurrence of offenses in a particular precinct of Brooklyn'\n",
    "    }],\n",
    "    \"layout\" : {\n",
    "        \"title\": \"STATISTICAL ANALYSIS OF OFFENCES IN BROOKLYN\",\n",
    "        \"yaxis\": {\n",
    "            \"zeroline\": False,\n",
    "            \"label\": \"dd\"\n",
    "        }\n",
    "    }\n",
    "}\n",
    "\n",
    "py.offline.iplot(fig, validate = False)"
   ]
  },
  {
   "cell_type": "code",
   "execution_count": 11,
   "metadata": {
    "collapsed": true
   },
   "outputs": [],
   "source": [
    "# Take the values of lat and lon from base dataframe 'results_df' and store them in a list lat and lon\n",
    "lat= list(results_df[\"latitude\"].astype(float))\n",
    "lon= list(results_df[\"longitude\"].astype(float))\n",
    "\n",
    "# Store lat and lon list in Loc and take transpose \n",
    "Loc=np.array([lat,lon]).T"
   ]
  },
  {
   "cell_type": "code",
   "execution_count": 12,
   "metadata": {
    "collapsed": true
   },
   "outputs": [],
   "source": [
    "# Now we generate folium maps for our API data\n",
    "# So, importing required libraries for folium maps\n",
    "import folium \n",
    "from folium import plugins\n",
    "from folium.plugins import HeatMap\n",
    "import requests"
   ]
  },
  {
   "cell_type": "code",
   "execution_count": 13,
   "metadata": {},
   "outputs": [],
   "source": [
    "# Make map m and store a location in it as a starting point\n",
    "m =folium.Map(location=[40.730610, -73.935242], zoom_start= 10)\n",
    "\n",
    "# Add marker cluster to map m using Loc data\n",
    "plugins.MarkerCluster(Loc).add_to(m)\n",
    "\n",
    "# Save map to given direction\n",
    "# Map 1 : It gives us the location from which the complaints were received\n",
    "# While saving this map make sure to change the directory as per your preferred location\n",
    "m.save(\"C:/Users/punit/OneDrive/Desktop/Programming for Analytics/New_Map1.html\")"
   ]
  },
  {
   "cell_type": "code",
   "execution_count": 14,
   "metadata": {
    "collapsed": true
   },
   "outputs": [],
   "source": [
    "# Selecting columns of interest and storing it in a new dataframe 'dfup'\n",
    "dfup=results_df[[\"cmplnt_fr_dt\",\"cmplnt_fr_tm\",\"ofns_desc\",\"latitude\",\"longitude\"]]\n",
    "\n",
    "# Dropping null values in dataframe 'dfup'\n",
    "dfup=dfup.dropna()\n",
    "\n",
    "# Take the values of lat and lon from dfup\n",
    "lat= list(dfup[\"latitude\"].astype(float))\n",
    "lon= list(dfup[\"longitude\"].astype(float))\n",
    "comp=list(dfup[\"ofns_desc\"])\n",
    "\n",
    "# Store lat and lon list in Loc and take trnspose \n",
    "Loc1=np.array([lat,lon]).T\n",
    "\n",
    "# Viewing number of unique complaints\n",
    "complaints=list(dfup.ofns_desc.unique())"
   ]
  },
  {
   "cell_type": "code",
   "execution_count": 15,
   "metadata": {
    "collapsed": true
   },
   "outputs": [],
   "source": [
    "# Function to convert datetime datatype to just date (To simplify our data analysis)\n",
    "import datetime\n",
    "def date1(tmp):\n",
    "    dt=datetime.datetime.strptime(tmp,'%Y-%m-%dT%H:%M:%S.000')\n",
    "    dt.date()\n",
    "    dd=dt.date()\n",
    "    return (dd)\n",
    "# applying function to complaint datetime and storing the date in new column Date\n",
    "dfup[\"Date\"]=dfup[\"cmplnt_fr_dt\"].apply(date1)"
   ]
  },
  {
   "cell_type": "code",
   "execution_count": 16,
   "metadata": {
    "collapsed": true
   },
   "outputs": [],
   "source": [
    "# Importing libraries\n",
    "from datetime import date\n",
    "import calendar\n",
    "import datetime \n",
    "\n",
    "# Function that take date and convert to weekday\n",
    "def weekDay(date):    \n",
    "    Wday=calendar.day_name[date.weekday()]\n",
    "    return(Wday)\n",
    "\n",
    "# Applying function to date and storing the day in new column Day\n",
    "dfup[\"Day\"]=dfup[\"Date\"].apply(weekDay)"
   ]
  },
  {
   "cell_type": "code",
   "execution_count": 17,
   "metadata": {
    "collapsed": true
   },
   "outputs": [],
   "source": [
    "# Convert time string to hour\n",
    "def dTime(datime):\n",
    "    hour,minutes,seconds=(int(x)for x in datime.split(\":\"))\n",
    "    dayhour=hour+minutes/float(60)+seconds/3600\n",
    "    return(dayhour)\n",
    "\n",
    "# Applying function to time in dfup and store it in new column DayHour\n",
    "dfup[\"DayHour\"]=dfup[\"cmplnt_fr_tm\"].apply(dTime)\n",
    "dayD=list(dfup[\"Day\"])"
   ]
  },
  {
   "cell_type": "code",
   "execution_count": 18,
   "metadata": {},
   "outputs": [
    {
     "data": {
      "image/png": "[encoded data removed]",
      "text/plain": [
       "<matplotlib.figure.Figure at 0x6b7a0208>"
      ]
     },
     "metadata": {},
     "output_type": "display_data"
    }
   ],
   "source": [
    "# Plot 3 : Plotting histogram for crime rate during 24 hour\n",
    "import matplotlib.pyplot as plt\n",
    "H=dfup[\"DayHour\"].plot(kind=\"hist\",bins=24)\n",
    "plt.show()"
   ]
  },
  {
   "cell_type": "code",
   "execution_count": 19,
   "metadata": {
    "collapsed": true
   },
   "outputs": [],
   "source": [
    "# Coloring by each day\n",
    "def colorDay(Di):\n",
    "    if Di ==\"Monday\":\n",
    "        return \"orange\"\n",
    "    elif Di== \"Tuesday\":\n",
    "        return \"yellow\"\n",
    "    elif Di== \"Wednesday\":\n",
    "        return \"green\"\n",
    "    elif Di== \"Thursday\":\n",
    "        return \"blue\"\n",
    "    elif Di== \"Friday\":\n",
    "        return \"purple\"\n",
    "    elif Di== \"Saturday\":\n",
    "        return \"red\"\n",
    "    elif Di== \"Sunday\":\n",
    "        return \"black\""
   ]
  },
  {
   "cell_type": "code",
   "execution_count": 20,
   "metadata": {},
   "outputs": [],
   "source": [
    "# Map 2: Creating a map which shows location of each complaint on each day of week\n",
    "map3 = folium.Map(location=[40.730610, -73.935242], zoom_start= 10)\n",
    "\n",
    "# Creat Feature Group\n",
    "fg3= folium.FeatureGroup(name = \"Saturday Crimes\")\n",
    "fg4= folium.FeatureGroup(name = \"Sunday Crimes\")\n",
    "fg5= folium.FeatureGroup(name = \"Monday Crimes\")\n",
    "fg6= folium.FeatureGroup(name = \"Tuesday Crimes\")\n",
    "fg7= folium.FeatureGroup(name = \"Wednesday Crimes\")\n",
    "fg8= folium.FeatureGroup(name = \"Thursday Crimes\")\n",
    "fg9= folium.FeatureGroup(name = \"Friday Crimes\")\n",
    "\n",
    "for lt, ln,cm,Di in zip(lat,lon,comp,dayD):\n",
    "    if Di==\"Saturday\":\n",
    "        fg3.add_child(folium.CircleMarker(\n",
    "                                radius=5,\n",
    "                                location=[lt,ln],\n",
    "                                popup= folium.Popup(str(cm),parse_html= True),\n",
    "                                color= \"grey\",\n",
    "                                fill=True,\n",
    "                                fill_color= colorDay(Di),\n",
    "                                fill_opacity=0.4))    \n",
    "    elif Di==\"Sunday\":\n",
    "        fg4.add_child(folium.CircleMarker(\n",
    "                                radius=5,\n",
    "                                location=[lt,ln],\n",
    "                                popup= folium.Popup(str(cm),parse_html= True),\n",
    "                                color= \"grey\",\n",
    "                                fill=True,\n",
    "                                fill_color= colorDay(Di),\n",
    "                                fill_opacity=0.4)) \n",
    "    elif Di==\"Monday\":\n",
    "        fg5.add_child(folium.CircleMarker(\n",
    "                                radius=5,\n",
    "                                location=[lt,ln],\n",
    "                                popup= folium.Popup(str(cm),parse_html= True),\n",
    "                                color= \"grey\",\n",
    "                                fill=True,\n",
    "                                fill_color= colorDay(Di),\n",
    "                                fill_opacity=0.4))  \n",
    "    elif Di==\"Tuesday\":\n",
    "        fg6.add_child(folium.CircleMarker(\n",
    "                                radius=5,\n",
    "                                location=[lt,ln],\n",
    "                                popup= folium.Popup(str(cm),parse_html= True),\n",
    "                                color= \"grey\",\n",
    "                                fill=True,\n",
    "                                fill_color= colorDay(Di),\n",
    "                                fill_opacity=0.4)) \n",
    "    elif Di==\"Wednesday\":\n",
    "        fg7.add_child(folium.CircleMarker(\n",
    "                                radius=5,\n",
    "                                location=[lt,ln],\n",
    "                                popup= folium.Popup(str(cm),parse_html= True),\n",
    "                                color= \"grey\",\n",
    "                                fill=True,\n",
    "                                fill_color= colorDay(Di),\n",
    "                                fill_opacity=0.4))    \n",
    "    elif Di==\"Thursday\":\n",
    "        fg8.add_child(folium.CircleMarker(\n",
    "                                radius=5,\n",
    "                                location=[lt,ln],\n",
    "                                popup= folium.Popup(str(cm),parse_html= True),\n",
    "                                color= \"grey\",\n",
    "                                fill=True,\n",
    "                                fill_color= colorDay(Di),\n",
    "                                fill_opacity=0.4))  \n",
    "    elif Di==\"Friday\":\n",
    "        fg9.add_child(folium.CircleMarker(\n",
    "                                radius=5,\n",
    "                                location=[lt,ln],\n",
    "                                popup= folium.Popup(str(cm),parse_html= True),\n",
    "                                color= \"grey\",\n",
    "                                fill=True,\n",
    "                                fill_color= colorDay(Di),\n",
    "                                fill_opacity=0.4)) \n",
    "# Add feature group to map\n",
    "map3.add_child(fg3)\n",
    "map3.add_child(fg4)\n",
    "map3.add_child(fg5)\n",
    "map3.add_child(fg6)\n",
    "map3.add_child(fg7)\n",
    "map3.add_child(fg8)\n",
    "map3.add_child(fg9)\n",
    "\n",
    "# Add control layer after adding the feature groups\n",
    "map3.add_child(folium.LayerControl())\n",
    "\n",
    "# Save chart to this directory\n",
    "# While saving this map make sure to change the directory as per your preferred location\n",
    "map3.save(\"C:/Users/punit/OneDrive/Desktop/Programming for Analytics/New_Map3.html\")"
   ]
  },
  {
   "cell_type": "code",
   "execution_count": 21,
   "metadata": {},
   "outputs": [],
   "source": [
    "# Map 3 : Creating heat map to show density of complaints received in NYC\n",
    "map4 = folium.Map(location=[40.730610, -73.935242],tiles='stamentoner', zoom_start= 10)\n",
    "\n",
    "# Making sure datatype is float\n",
    "dfup[\"latitude\"]=dfup[\"latitude\"].astype(float)\n",
    "dfup[\"longitude\"]=dfup[\"longitude\"].astype(float)\n",
    "\n",
    "# Storing data for heat map\n",
    "heat_data = [[row['latitude'],row['longitude']] for index, row in dfup.iterrows()]\n",
    "\n",
    "HeatMap(data= heat_data).add_to(map4)\n",
    "\n",
    "# Save chart to this directory\n",
    "# While saving this map make sure to change the directory as per your preferred location\n",
    "map4.save(\"C:/Users/punit/OneDrive/Desktop/Programming for Analytics/New_Map4.html\")"
   ]
  }
 ],
 "metadata": {
  "kernelspec": {
   "display_name": "Python 2",
   "language": "python",
   "name": "python2"
  },
  "language_info": {
   "codemirror_mode": {
    "name": "ipython",
    "version": 2
   },
   "file_extension": ".py",
   "mimetype": "text/x-python",
   "name": "python",
   "nbconvert_exporter": "python",
   "pygments_lexer": "ipython2",
   "version": "2.7.14"
  }
 },
 "nbformat": 4,
 "nbformat_minor": 2
}
